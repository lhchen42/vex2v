{
 "cells": [
  {
   "cell_type": "code",
   "execution_count": 1,
   "metadata": {},
   "outputs": [
    {
     "name": "stderr",
     "output_type": "stream",
     "text": [
      "/home/cin/anaconda3/envs/pytorchenv/lib/python3.7/site-packages/pysmt/walkers/generic.py:43: DeprecationWarning: Using or importing the ABCs from 'collections' instead of from 'collections.abc' is deprecated, and in 3.8 it will stop working\n",
      "  if len(nodetypes) == 1 and isinstance(nodetypes[0], collections.Iterable):\n"
     ]
    }
   ],
   "source": [
    "import angr\n",
    "from angrutils import *"
   ]
  },
  {
   "cell_type": "code",
   "execution_count": 2,
   "metadata": {},
   "outputs": [
    {
     "name": "stderr",
     "output_type": "stream",
     "text": [
      "WARNING | 2020-06-27 12:46:31,960 | \u001b[31mcle.backends.elf.elf\u001b[0m | \u001b[31mno segments identified in PT_LOAD\u001b[0m\n",
      "WARNING | 2020-06-27 12:46:31,970 | \u001b[36mcle.loader\u001b[0m | \u001b[36mThe main binary is a position-independent executable. It is being loaded with a base address of 0x400000.\u001b[0m\n",
      "WARNING | 2020-06-27 12:46:31,973 | \u001b[31mcle.backends.externs\u001b[0m | \u001b[31mSymbol type mismatch between export request and response for optarg. What's going on?\u001b[0m\n",
      "WARNING | 2020-06-27 12:46:31,974 | \u001b[31mcle.backends.externs\u001b[0m | \u001b[31mSymbol type mismatch between export request and response for optind. What's going on?\u001b[0m\n",
      "WARNING | 2020-06-27 12:46:31,975 | \u001b[31mcle.backends.externs\u001b[0m | \u001b[31mSymbol type mismatch between export request and response for stdout. What's going on?\u001b[0m\n"
     ]
    }
   ],
   "source": [
    "p = angr.Project(\"./source_code/basename.c_main.c_clang_-O1.o\", load_options={'auto_load_libs': False})"
   ]
  },
  {
   "cell_type": "code",
   "execution_count": 17,
   "metadata": {},
   "outputs": [],
   "source": [
    "f = p.kb.functions"
   ]
  },
  {
   "cell_type": "code",
   "execution_count": 18,
   "metadata": {},
   "outputs": [
    {
     "name": "stdout",
     "output_type": "stream",
     "text": [
      "<angr.knowledge_plugins.functions.function_manager.FunctionManager object at 0x7f3fea124668>\n"
     ]
    }
   ],
   "source": [
    "print(f)"
   ]
  },
  {
   "cell_type": "code",
   "execution_count": 19,
   "metadata": {},
   "outputs": [],
   "source": [
    "for addr in f:\n",
    "    print (addr)"
   ]
  },
  {
   "cell_type": "code",
   "execution_count": 20,
   "metadata": {},
   "outputs": [],
   "source": [
    "cfg = p.analyses.CFGFast()"
   ]
  },
  {
   "cell_type": "code",
   "execution_count": 25,
   "metadata": {},
   "outputs": [
    {
     "name": "stdout",
     "output_type": "stream",
     "text": [
      "4194304\n",
      "16777216\n",
      "16777224\n",
      "16777232\n",
      "16777240\n",
      "16777256\n",
      "16777264\n",
      "16777288\n",
      "16777528\n",
      "16777536\n",
      "16777544\n",
      "16777552\n",
      "16777560\n",
      "16777568\n"
     ]
    }
   ],
   "source": [
    "for addr in cfg.kb.functions:\n",
    "    print (addr)"
   ]
  },
  {
   "cell_type": "code",
   "execution_count": null,
   "metadata": {},
   "outputs": [],
   "source": []
  }
 ],
 "metadata": {
  "kernelspec": {
   "display_name": "Python 3",
   "language": "python",
   "name": "python3"
  },
  "language_info": {
   "codemirror_mode": {
    "name": "ipython",
    "version": 3
   },
   "file_extension": ".py",
   "mimetype": "text/x-python",
   "name": "python",
   "nbconvert_exporter": "python",
   "pygments_lexer": "ipython3",
   "version": "3.7.3"
  }
 },
 "nbformat": 4,
 "nbformat_minor": 4
}
