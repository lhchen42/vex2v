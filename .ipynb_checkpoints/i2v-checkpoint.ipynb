{
 "cells": [
  {
   "cell_type": "code",
   "execution_count": 27,
   "metadata": {},
   "outputs": [],
   "source": [
    "import torch\n",
    "import torch.nn as nn\n",
    "import torch.nn.functional as F\n",
    "import torch.optim as optim\n",
    "import torch.utils.data\n",
    "from collections import Counter"
   ]
  },
  {
   "cell_type": "code",
   "execution_count": 35,
   "metadata": {},
   "outputs": [],
   "source": [
    "class Skipgram(nn.Module):\n",
    "    def __init__(self, vocabulary_size, embedding_size):\n",
    "        super(Skipgram, self).__init__()\n",
    "        self.vocabulary_size = vocabulary_size\n",
    "        self.embedding_size = embedding_size\n",
    "        self.embeddings = nn.Embedding(self.vocabulary_size, self.embedding_size)\n",
    "        self.linear1 = nn.Linear(self.embedding_size, self.vocabulary_size)\n",
    "\n",
    "    \n",
    "    def forward(self, input):\n",
    "        embeds = self.embeddings(input)\n",
    "        #print(embeds.shape)\n",
    "        out = self.linear1(F.relu(embeds))\n",
    "        log_probs = F.log_softmax(out, dim=1)\n",
    "        \n",
    "        return log_probs\n",
    "    \n",
    "    def get_embedding(self, input):\n",
    "        out_vector = self.embeddings(input)\n",
    "        return out_vector \n",
    "        "
   ]
  },
  {
   "cell_type": "code",
   "execution_count": 36,
   "metadata": {},
   "outputs": [],
   "source": [
    "# import re\n",
    "\n",
    "# def get_training_data(token_list, window_size, w2i, i2w):\n",
    "#     training_data = []\n",
    "#     for target_pos in range(len(token_list)):\n",
    "#         # target_pos is the center position\n",
    "#         target = token_list[target_pos]\n",
    "#         contexts = []\n",
    "#         for d in range(-window_size, window_size+1):\n",
    "#             context_pos = target_pos + d\n",
    "#             # skip target(center) token, avoid pos beyond token_list\n",
    "#             if(context_pos == target_pos or context_pos < 0 or context_pos >= len(token_list)):\n",
    "#                 continue\n",
    "#             #print(context_pos)\n",
    "#             #contexts.append(token_list[context_pos])\n",
    "#             contexts.append(w2i[token_list[context_pos]])\n",
    "# #         for i in range(window_size*2 - len(contexts)):\n",
    "# #             contexts.append(w2i['None'])\n",
    "#         training_data.append((contexts, w2i[token_list[target_pos]]))\n",
    "#     return training_data\n",
    "\n",
    "# def clean_data(token_list):\n",
    "#     cleaned_list = []\n",
    "#     for t in token_list:\n",
    "#         cleaned_list.append(re.sub('0[xX][0-9a-fA-F]+', 'IMM', t))\n",
    "#     return \n",
    "\n",
    "# def preprocess_data(filename, window_size):\n",
    "#     with open(filename, \"rb\") as file:\n",
    "#         text = file.read().decode('utf-8').strip()\n",
    "#         text_split = text.split(\"\\n\")\n",
    "#         # token is a line of assembly instruction\n",
    "#         token_list = [' '.join(inst.split('\\t')[1:]) for inst in text_split]\n",
    "        \n",
    "#         cleaned_token_list = clean_data(token_list)\n",
    "        \n",
    "        \n",
    "#         vocab = set(token_list)\n",
    "# #         vocab.add('None')\n",
    "#         #print(vocab)\n",
    "#         #print(len(vocab))\n",
    "#         w2i = {word: i for i, word in enumerate(vocab)}\n",
    "#         i2w = {i: word for word, i in w2i.items()}\n",
    "#         #print(i2w)\n",
    "\n",
    "#         training_data = get_training_data(token_list, window_size, w2i, i2w)\n",
    "#     return vocab, training_data, w2i, i2w\n",
    "\n",
    "# filename = \"data/basename.c_main.c.o_main\"\n",
    "# vocab, training_data, w2i, i2w = preprocess_data(filename, 8)\n",
    "#print(training_data)"
   ]
  },
  {
   "cell_type": "code",
   "execution_count": 45,
   "metadata": {},
   "outputs": [],
   "source": [
    "import os\n",
    "import re\n",
    "import sys\n",
    "def preprocess_token(token, threshold):\n",
    "    print(token)\n",
    "    sys.exit()\n",
    "    #if \"IMark\" in token:\n",
    "        #return [\"IMARK\"]\n",
    "    #token_list = token.strip().split(\"=\")\n",
    "    #modified_list = []\n",
    "    #print(token_list)\n",
    "    #sys.exit()\n",
    "#     for token in token_list:\n",
    "#         new_token = re.sub('0[xX][0-9a-fA-F]+', 'MEM', token)\n",
    "#         abs_values = re.findall('(?<=\\s)\\d+(?=\\s|$)', new_token)\n",
    "#         for v in abs_values:\n",
    "#             # if absolute value is greater than threshhold, replace it with IMM\n",
    "#             if(int(v) > threshold):\n",
    "#                 new_token = new_token.replace(v, 'IMM')\n",
    "#         modified_list.append(new_token)\n",
    "#     return ' '.join(modified_list)\n",
    "        \n",
    "\n",
    "\n",
    "def preprocess_file(file):\n",
    "    token_list = []\n",
    "    with open(file, 'r') as f:\n",
    "        tokens = f.readlines()\n",
    "        for token in tokens:\n",
    "            if \"IMark\" in token:\n",
    "                #token = \"IMark\"\n",
    "                continue\n",
    "            elif \"AbiHint\" in token:\n",
    "                #token = \"AbiHint\"\n",
    "                continue\n",
    "            else:\n",
    "                # replace memory address\n",
    "                token = re.sub('0[xX][0-9a-fA-F]+', 'MEM', token.strip())\n",
    "                \n",
    "                # replace offset constants\n",
    "                token = re.sub('offset=\\d+', 'offset=CONST', token)\n",
    "                \n",
    "                # replace temperary variable\n",
    "                token = re.sub('t\\d+', 'TVAR', token)\n",
    "            #processed_token = preprocess_token(token, 1)\n",
    "            token_list.append(token)\n",
    "    return token_list\n",
    "\n",
    "def collect_vocab(data_set):\n",
    "    vocabs = {}\n",
    "    for file, tokens in data_set.items():\n",
    "        for token in tokens:\n",
    "            if token not in vocabs:\n",
    "                vocabs[token] = 1\n",
    "            else:\n",
    "                vocabs[token] += 1\n",
    "    return vocabs\n",
    "\n",
    "def min_frequency(dataset, vocabs, min_frequency):\n",
    "    new_dataset = {}\n",
    "    for file, tokens in dataset.items():\n",
    "        new_tokens = tokens.copy()\n",
    "        for token in tokens:\n",
    "            #print(token)\n",
    "            if(vocabs[token] < min_frequency):\n",
    "                #print('remove {} {} {}'.format(file, token, vocabs[token]))\n",
    "                new_tokens.remove(token)\n",
    "        #print(tokens)\n",
    "        new_dataset[file] = new_tokens\n",
    "    return new_dataset\n",
    "\n",
    "def get_dataset(data_dir):\n",
    "    data_set = {}\n",
    "    for subdir, dirs, files in os.walk(data_dir):\n",
    "        for file in files:\n",
    "            file_path = os.path.join(subdir, file)\n",
    "            data_set[file] = preprocess_file(file_path)\n",
    "\n",
    "    #print the dataset\n",
    "    # for file, token_list in data_set.items():\n",
    "    #     print(f'{file}: {token_list}')\n",
    "\n",
    "    vocabs = collect_vocab(data_set)\n",
    "    # for vocab, frequency in vocabs.items():\n",
    "    #     print(vocab, frequency)\n",
    "\n",
    "    processed_dataset = min_frequency(data_set, vocabs, 2)\n",
    "    for file, tokens in processed_dataset.items():\n",
    "        for token in tokens:\n",
    "            if(vocabs[token] < 2):\n",
    "                print(token, vocabs[token])\n",
    "\n",
    "    w2i = {word: i for i, word in enumerate(vocabs.keys())}\n",
    "    i2w = {i: word for word, i in w2i.items()}\n",
    "    \n",
    "    return processed_dataset, vocabs, w2i, i2w\n",
    "\n",
    "data_set, vocabs, w2i, i2w = get_dataset('./vex2v_data_small/')\n",
    "#print(data_set)\n",
    "\n",
    "# for w, i in w2i.items():\n",
    "#     print('{:<42}:{}'.format(w, i))\n",
    "# print(\"=================\")\n",
    "# for file, tokens in data_set.items():\n",
    "#     for token in tokens:\n",
    "#         if(vocabs[token] < 2):\n",
    "#             print(token, vocabs[token])"
   ]
  },
  {
   "cell_type": "code",
   "execution_count": 51,
   "metadata": {},
   "outputs": [],
   "source": [
    "window_size = 8\n",
    "batch_size = 2\n",
    "\n",
    "def get_training_data(data_set, vocab, w2i, i2w, window_size):\n",
    "    idx_pairs = []\n",
    "    for file, tokens in data_set.items():\n",
    "        indicies = [w2i[token] for token in tokens]\n",
    "        for center_word_pos in range(len(indicies)):\n",
    "            contexts = []\n",
    "            for w in range(-window_size, window_size+1):\n",
    "                context_word_pos = center_word_pos + w\n",
    "\n",
    "                if context_word_pos < 0 or context_word_pos >= len(indicies) or center_word_pos == context_word_pos:\n",
    "                    continue\n",
    "                context_word_idx = indicies[context_word_pos]\n",
    "                contexts.append(context_word_idx)\n",
    "                #idx_pairs.append((indicies[center_word_pos], context_word_idx))\n",
    "            idx_pairs.append([contexts, center_word_pos])\n",
    "    return idx_pairs\n",
    "\n",
    "training_data = get_training_data(data_set, vocabs, w2i, i2w, window_size)\n",
    "# batch_size\n",
    "if(len(training_data) < batch_size):\n",
    "    batch_size = len(training_data)//2"
   ]
  },
  {
   "cell_type": "code",
   "execution_count": 52,
   "metadata": {},
   "outputs": [],
   "source": [
    "def get_batch(data, batch_size):\n",
    "    n_batches = len(data)//batch_size\n",
    "    \n",
    "    data = data[:n_batches*batch_size]\n",
    "    for i in range(0, len(data), batch_size):\n",
    "        x, y = [], []\n",
    "        batch = data[i:i+batch_size]\n",
    "        #print(batch)\n",
    "        for j in range(len(batch)):\n",
    "            y.extend(batch[j][0])\n",
    "            x.extend([batch[j][1]]*len(batch[j][0]))\n",
    "        yield x, y\n",
    "\n",
    "# get_batch(training_data, batch_size)"
   ]
  },
  {
   "cell_type": "code",
   "execution_count": 53,
   "metadata": {},
   "outputs": [
    {
     "name": "stdout",
     "output_type": "stream",
     "text": [
      "17\n",
      "21\n",
      "25\n",
      "29\n",
      "32\n",
      "32\n",
      "32\n",
      "32\n",
      "32\n",
      "32\n",
      "32\n",
      "32\n",
      "32\n",
      "32\n",
      "32\n",
      "32\n",
      "32\n",
      "32\n",
      "32\n",
      "32\n",
      "32\n",
      "32\n",
      "32\n",
      "32\n",
      "32\n",
      "32\n",
      "32\n",
      "32\n",
      "32\n",
      "32\n",
      "32\n",
      "32\n",
      "32\n",
      "32\n",
      "32\n",
      "32\n",
      "32\n",
      "32\n",
      "32\n",
      "32\n",
      "32\n",
      "32\n",
      "32\n",
      "32\n",
      "32\n",
      "32\n",
      "32\n",
      "32\n",
      "32\n",
      "32\n",
      "32\n",
      "32\n",
      "32\n",
      "32\n",
      "32\n",
      "32\n",
      "32\n",
      "32\n",
      "32\n",
      "32\n",
      "32\n",
      "32\n",
      "32\n",
      "32\n",
      "32\n",
      "32\n",
      "32\n",
      "32\n",
      "32\n",
      "32\n",
      "32\n",
      "32\n",
      "32\n",
      "32\n",
      "32\n",
      "32\n",
      "32\n",
      "32\n",
      "32\n",
      "32\n",
      "32\n",
      "32\n",
      "32\n",
      "32\n",
      "32\n",
      "32\n",
      "32\n",
      "32\n",
      "32\n",
      "32\n",
      "32\n",
      "32\n",
      "32\n",
      "32\n",
      "32\n",
      "32\n",
      "32\n",
      "32\n",
      "32\n",
      "32\n",
      "32\n",
      "32\n",
      "32\n",
      "32\n",
      "32\n",
      "32\n",
      "32\n",
      "32\n",
      "32\n",
      "32\n",
      "32\n",
      "32\n",
      "32\n",
      "32\n",
      "32\n",
      "32\n",
      "32\n",
      "32\n",
      "32\n",
      "32\n",
      "32\n",
      "32\n",
      "32\n",
      "32\n",
      "32\n",
      "32\n",
      "32\n",
      "32\n",
      "32\n",
      "32\n",
      "32\n",
      "32\n",
      "32\n",
      "32\n",
      "32\n",
      "32\n",
      "32\n",
      "32\n",
      "32\n",
      "32\n",
      "32\n",
      "32\n",
      "32\n",
      "32\n",
      "32\n"
     ]
    },
    {
     "ename": "RuntimeError",
     "evalue": "index out of range at ../aten/src/TH/generic/THTensorEvenMoreMath.cpp:193",
     "output_type": "error",
     "traceback": [
      "\u001b[0;31m---------------------------------------------------------------------------\u001b[0m",
      "\u001b[0;31mRuntimeError\u001b[0m                              Traceback (most recent call last)",
      "\u001b[0;32m<ipython-input-53-14f960ee8fb4>\u001b[0m in \u001b[0;36m<module>\u001b[0;34m\u001b[0m\n\u001b[1;32m     15\u001b[0m         \u001b[0mlabel\u001b[0m \u001b[0;34m=\u001b[0m \u001b[0mtorch\u001b[0m\u001b[0;34m.\u001b[0m\u001b[0mLongTensor\u001b[0m\u001b[0;34m(\u001b[0m\u001b[0mcontext\u001b[0m\u001b[0;34m)\u001b[0m\u001b[0;34m\u001b[0m\u001b[0;34m\u001b[0m\u001b[0m\n\u001b[1;32m     16\u001b[0m         \u001b[0mprint\u001b[0m\u001b[0;34m(\u001b[0m\u001b[0mlen\u001b[0m\u001b[0;34m(\u001b[0m\u001b[0minput_\u001b[0m\u001b[0;34m)\u001b[0m\u001b[0;34m)\u001b[0m\u001b[0;34m\u001b[0m\u001b[0;34m\u001b[0m\u001b[0m\n\u001b[0;32m---> 17\u001b[0;31m         \u001b[0mlog_probs\u001b[0m \u001b[0;34m=\u001b[0m \u001b[0mmodel\u001b[0m\u001b[0;34m(\u001b[0m\u001b[0minput_\u001b[0m\u001b[0;34m)\u001b[0m\u001b[0;34m\u001b[0m\u001b[0;34m\u001b[0m\u001b[0m\n\u001b[0m\u001b[1;32m     18\u001b[0m         \u001b[0mloss\u001b[0m \u001b[0;34m=\u001b[0m \u001b[0mloss_function\u001b[0m\u001b[0;34m(\u001b[0m\u001b[0mlog_probs\u001b[0m\u001b[0;34m,\u001b[0m \u001b[0mlabel\u001b[0m\u001b[0;34m)\u001b[0m\u001b[0;34m\u001b[0m\u001b[0;34m\u001b[0m\u001b[0m\n\u001b[1;32m     19\u001b[0m         \u001b[0moptimizer\u001b[0m\u001b[0;34m.\u001b[0m\u001b[0mzero_grad\u001b[0m\u001b[0;34m(\u001b[0m\u001b[0;34m)\u001b[0m\u001b[0;34m\u001b[0m\u001b[0;34m\u001b[0m\u001b[0m\n",
      "\u001b[0;32m~/anaconda3/envs/pytorchenv/lib/python3.7/site-packages/torch/nn/modules/module.py\u001b[0m in \u001b[0;36m__call__\u001b[0;34m(self, *input, **kwargs)\u001b[0m\n\u001b[1;32m    491\u001b[0m             \u001b[0mresult\u001b[0m \u001b[0;34m=\u001b[0m \u001b[0mself\u001b[0m\u001b[0;34m.\u001b[0m\u001b[0m_slow_forward\u001b[0m\u001b[0;34m(\u001b[0m\u001b[0;34m*\u001b[0m\u001b[0minput\u001b[0m\u001b[0;34m,\u001b[0m \u001b[0;34m**\u001b[0m\u001b[0mkwargs\u001b[0m\u001b[0;34m)\u001b[0m\u001b[0;34m\u001b[0m\u001b[0;34m\u001b[0m\u001b[0m\n\u001b[1;32m    492\u001b[0m         \u001b[0;32melse\u001b[0m\u001b[0;34m:\u001b[0m\u001b[0;34m\u001b[0m\u001b[0;34m\u001b[0m\u001b[0m\n\u001b[0;32m--> 493\u001b[0;31m             \u001b[0mresult\u001b[0m \u001b[0;34m=\u001b[0m \u001b[0mself\u001b[0m\u001b[0;34m.\u001b[0m\u001b[0mforward\u001b[0m\u001b[0;34m(\u001b[0m\u001b[0;34m*\u001b[0m\u001b[0minput\u001b[0m\u001b[0;34m,\u001b[0m \u001b[0;34m**\u001b[0m\u001b[0mkwargs\u001b[0m\u001b[0;34m)\u001b[0m\u001b[0;34m\u001b[0m\u001b[0;34m\u001b[0m\u001b[0m\n\u001b[0m\u001b[1;32m    494\u001b[0m         \u001b[0;32mfor\u001b[0m \u001b[0mhook\u001b[0m \u001b[0;32min\u001b[0m \u001b[0mself\u001b[0m\u001b[0;34m.\u001b[0m\u001b[0m_forward_hooks\u001b[0m\u001b[0;34m.\u001b[0m\u001b[0mvalues\u001b[0m\u001b[0;34m(\u001b[0m\u001b[0;34m)\u001b[0m\u001b[0;34m:\u001b[0m\u001b[0;34m\u001b[0m\u001b[0;34m\u001b[0m\u001b[0m\n\u001b[1;32m    495\u001b[0m             \u001b[0mhook_result\u001b[0m \u001b[0;34m=\u001b[0m \u001b[0mhook\u001b[0m\u001b[0;34m(\u001b[0m\u001b[0mself\u001b[0m\u001b[0;34m,\u001b[0m \u001b[0minput\u001b[0m\u001b[0;34m,\u001b[0m \u001b[0mresult\u001b[0m\u001b[0;34m)\u001b[0m\u001b[0;34m\u001b[0m\u001b[0;34m\u001b[0m\u001b[0m\n",
      "\u001b[0;32m<ipython-input-35-23df296a9add>\u001b[0m in \u001b[0;36mforward\u001b[0;34m(self, input)\u001b[0m\n\u001b[1;32m      9\u001b[0m \u001b[0;34m\u001b[0m\u001b[0m\n\u001b[1;32m     10\u001b[0m     \u001b[0;32mdef\u001b[0m \u001b[0mforward\u001b[0m\u001b[0;34m(\u001b[0m\u001b[0mself\u001b[0m\u001b[0;34m,\u001b[0m \u001b[0minput\u001b[0m\u001b[0;34m)\u001b[0m\u001b[0;34m:\u001b[0m\u001b[0;34m\u001b[0m\u001b[0;34m\u001b[0m\u001b[0m\n\u001b[0;32m---> 11\u001b[0;31m         \u001b[0membeds\u001b[0m \u001b[0;34m=\u001b[0m \u001b[0mself\u001b[0m\u001b[0;34m.\u001b[0m\u001b[0membeddings\u001b[0m\u001b[0;34m(\u001b[0m\u001b[0minput\u001b[0m\u001b[0;34m)\u001b[0m\u001b[0;34m\u001b[0m\u001b[0;34m\u001b[0m\u001b[0m\n\u001b[0m\u001b[1;32m     12\u001b[0m         \u001b[0;31m#print(embeds.shape)\u001b[0m\u001b[0;34m\u001b[0m\u001b[0;34m\u001b[0m\u001b[0;34m\u001b[0m\u001b[0m\n\u001b[1;32m     13\u001b[0m         \u001b[0mout\u001b[0m \u001b[0;34m=\u001b[0m \u001b[0mself\u001b[0m\u001b[0;34m.\u001b[0m\u001b[0mlinear1\u001b[0m\u001b[0;34m(\u001b[0m\u001b[0mF\u001b[0m\u001b[0;34m.\u001b[0m\u001b[0mrelu\u001b[0m\u001b[0;34m(\u001b[0m\u001b[0membeds\u001b[0m\u001b[0;34m)\u001b[0m\u001b[0;34m)\u001b[0m\u001b[0;34m\u001b[0m\u001b[0;34m\u001b[0m\u001b[0m\n",
      "\u001b[0;32m~/anaconda3/envs/pytorchenv/lib/python3.7/site-packages/torch/nn/modules/module.py\u001b[0m in \u001b[0;36m__call__\u001b[0;34m(self, *input, **kwargs)\u001b[0m\n\u001b[1;32m    491\u001b[0m             \u001b[0mresult\u001b[0m \u001b[0;34m=\u001b[0m \u001b[0mself\u001b[0m\u001b[0;34m.\u001b[0m\u001b[0m_slow_forward\u001b[0m\u001b[0;34m(\u001b[0m\u001b[0;34m*\u001b[0m\u001b[0minput\u001b[0m\u001b[0;34m,\u001b[0m \u001b[0;34m**\u001b[0m\u001b[0mkwargs\u001b[0m\u001b[0;34m)\u001b[0m\u001b[0;34m\u001b[0m\u001b[0;34m\u001b[0m\u001b[0m\n\u001b[1;32m    492\u001b[0m         \u001b[0;32melse\u001b[0m\u001b[0;34m:\u001b[0m\u001b[0;34m\u001b[0m\u001b[0;34m\u001b[0m\u001b[0m\n\u001b[0;32m--> 493\u001b[0;31m             \u001b[0mresult\u001b[0m \u001b[0;34m=\u001b[0m \u001b[0mself\u001b[0m\u001b[0;34m.\u001b[0m\u001b[0mforward\u001b[0m\u001b[0;34m(\u001b[0m\u001b[0;34m*\u001b[0m\u001b[0minput\u001b[0m\u001b[0;34m,\u001b[0m \u001b[0;34m**\u001b[0m\u001b[0mkwargs\u001b[0m\u001b[0;34m)\u001b[0m\u001b[0;34m\u001b[0m\u001b[0;34m\u001b[0m\u001b[0m\n\u001b[0m\u001b[1;32m    494\u001b[0m         \u001b[0;32mfor\u001b[0m \u001b[0mhook\u001b[0m \u001b[0;32min\u001b[0m \u001b[0mself\u001b[0m\u001b[0;34m.\u001b[0m\u001b[0m_forward_hooks\u001b[0m\u001b[0;34m.\u001b[0m\u001b[0mvalues\u001b[0m\u001b[0;34m(\u001b[0m\u001b[0;34m)\u001b[0m\u001b[0;34m:\u001b[0m\u001b[0;34m\u001b[0m\u001b[0;34m\u001b[0m\u001b[0m\n\u001b[1;32m    495\u001b[0m             \u001b[0mhook_result\u001b[0m \u001b[0;34m=\u001b[0m \u001b[0mhook\u001b[0m\u001b[0;34m(\u001b[0m\u001b[0mself\u001b[0m\u001b[0;34m,\u001b[0m \u001b[0minput\u001b[0m\u001b[0;34m,\u001b[0m \u001b[0mresult\u001b[0m\u001b[0;34m)\u001b[0m\u001b[0;34m\u001b[0m\u001b[0;34m\u001b[0m\u001b[0m\n",
      "\u001b[0;32m~/anaconda3/envs/pytorchenv/lib/python3.7/site-packages/torch/nn/modules/sparse.py\u001b[0m in \u001b[0;36mforward\u001b[0;34m(self, input)\u001b[0m\n\u001b[1;32m    115\u001b[0m         return F.embedding(\n\u001b[1;32m    116\u001b[0m             \u001b[0minput\u001b[0m\u001b[0;34m,\u001b[0m \u001b[0mself\u001b[0m\u001b[0;34m.\u001b[0m\u001b[0mweight\u001b[0m\u001b[0;34m,\u001b[0m \u001b[0mself\u001b[0m\u001b[0;34m.\u001b[0m\u001b[0mpadding_idx\u001b[0m\u001b[0;34m,\u001b[0m \u001b[0mself\u001b[0m\u001b[0;34m.\u001b[0m\u001b[0mmax_norm\u001b[0m\u001b[0;34m,\u001b[0m\u001b[0;34m\u001b[0m\u001b[0;34m\u001b[0m\u001b[0m\n\u001b[0;32m--> 117\u001b[0;31m             self.norm_type, self.scale_grad_by_freq, self.sparse)\n\u001b[0m\u001b[1;32m    118\u001b[0m \u001b[0;34m\u001b[0m\u001b[0m\n\u001b[1;32m    119\u001b[0m     \u001b[0;32mdef\u001b[0m \u001b[0mextra_repr\u001b[0m\u001b[0;34m(\u001b[0m\u001b[0mself\u001b[0m\u001b[0;34m)\u001b[0m\u001b[0;34m:\u001b[0m\u001b[0;34m\u001b[0m\u001b[0;34m\u001b[0m\u001b[0m\n",
      "\u001b[0;32m~/anaconda3/envs/pytorchenv/lib/python3.7/site-packages/torch/nn/functional.py\u001b[0m in \u001b[0;36membedding\u001b[0;34m(input, weight, padding_idx, max_norm, norm_type, scale_grad_by_freq, sparse)\u001b[0m\n\u001b[1;32m   1504\u001b[0m         \u001b[0;31m# remove once script supports set_grad_enabled\u001b[0m\u001b[0;34m\u001b[0m\u001b[0;34m\u001b[0m\u001b[0;34m\u001b[0m\u001b[0m\n\u001b[1;32m   1505\u001b[0m         \u001b[0m_no_grad_embedding_renorm_\u001b[0m\u001b[0;34m(\u001b[0m\u001b[0mweight\u001b[0m\u001b[0;34m,\u001b[0m \u001b[0minput\u001b[0m\u001b[0;34m,\u001b[0m \u001b[0mmax_norm\u001b[0m\u001b[0;34m,\u001b[0m \u001b[0mnorm_type\u001b[0m\u001b[0;34m)\u001b[0m\u001b[0;34m\u001b[0m\u001b[0;34m\u001b[0m\u001b[0m\n\u001b[0;32m-> 1506\u001b[0;31m     \u001b[0;32mreturn\u001b[0m \u001b[0mtorch\u001b[0m\u001b[0;34m.\u001b[0m\u001b[0membedding\u001b[0m\u001b[0;34m(\u001b[0m\u001b[0mweight\u001b[0m\u001b[0;34m,\u001b[0m \u001b[0minput\u001b[0m\u001b[0;34m,\u001b[0m \u001b[0mpadding_idx\u001b[0m\u001b[0;34m,\u001b[0m \u001b[0mscale_grad_by_freq\u001b[0m\u001b[0;34m,\u001b[0m \u001b[0msparse\u001b[0m\u001b[0;34m)\u001b[0m\u001b[0;34m\u001b[0m\u001b[0;34m\u001b[0m\u001b[0m\n\u001b[0m\u001b[1;32m   1507\u001b[0m \u001b[0;34m\u001b[0m\u001b[0m\n\u001b[1;32m   1508\u001b[0m \u001b[0;34m\u001b[0m\u001b[0m\n",
      "\u001b[0;31mRuntimeError\u001b[0m: index out of range at ../aten/src/TH/generic/THTensorEvenMoreMath.cpp:193"
     ]
    }
   ],
   "source": [
    "if(len(training_data) < batch_size):\n",
    "    batch_size = len(training_data)//2\n",
    "\n",
    "# training\n",
    "losses = []\n",
    "loss_function = nn.NLLLoss()\n",
    "embedding_size = 32\n",
    "model = Skipgram(len(vocabs), embedding_size)\n",
    "optimizer = optim.Adam(model.parameters(), lr=0.001)\n",
    "epoch = 20\n",
    "\n",
    "for e in range(epoch):\n",
    "    total_loss = 0\n",
    "    for center, context in get_batch(training_data, batch_size):\n",
    "        input_ = torch.LongTensor(center)\n",
    "        label = torch.LongTensor(context)\n",
    "        print(len(input_))\n",
    "        log_probs = model(input_)\n",
    "        loss = loss_function(log_probs, label)\n",
    "        optimizer.zero_grad()\n",
    "        loss.backward()\n",
    "        optimizer.step()\n",
    "        total_loss+=loss\n",
    "    print('{}/{}'.format(e, epoch))\n",
    "    losses.append(total_loss)"
   ]
  },
  {
   "cell_type": "code",
   "execution_count": 97,
   "metadata": {},
   "outputs": [
    {
     "name": "stdout",
     "output_type": "stream",
     "text": [
      "[tensor(43.5823, grad_fn=<AddBackward0>), tensor(43.4076, grad_fn=<AddBackward0>), tensor(43.2339, grad_fn=<AddBackward0>), tensor(43.0613, grad_fn=<AddBackward0>), tensor(42.8897, grad_fn=<AddBackward0>), tensor(42.7193, grad_fn=<AddBackward0>), tensor(42.5501, grad_fn=<AddBackward0>), tensor(42.3819, grad_fn=<AddBackward0>), tensor(42.2149, grad_fn=<AddBackward0>), tensor(42.0491, grad_fn=<AddBackward0>)]\n"
     ]
    }
   ],
   "source": [
    "print(losses)"
   ]
  },
  {
   "cell_type": "code",
   "execution_count": 84,
   "metadata": {},
   "outputs": [],
   "source": [
    "# training_data"
   ]
  },
  {
   "cell_type": "code",
   "execution_count": 85,
   "metadata": {},
   "outputs": [],
   "source": [
    "# print('len(training_data): ', len(training_data))"
   ]
  },
  {
   "cell_type": "code",
   "execution_count": 86,
   "metadata": {},
   "outputs": [],
   "source": [
    "# import numpy as np"
   ]
  },
  {
   "cell_type": "code",
   "execution_count": 87,
   "metadata": {},
   "outputs": [],
   "source": [
    "# losses = []\n",
    "# loss_function = nn.NLLLoss()\n",
    "# model = Skipgram(len(vocab), 100, 8)\n",
    "# print(len(vocab))\n",
    "# optimizer = optim.SGD(model.parameters(), lr=0.001)\n",
    "# epoch = 200\n",
    "# training_data = np.array(training_data)\n",
    "# #print(i2w[47])\n",
    "\n",
    "# for e in range(epoch):\n",
    "#     if e%20 == 0:\n",
    "#         print(f\"epoch {e}/{epoch-1}\")\n",
    "#     total_loss = 0\n",
    "#     i = 0\n",
    "#     for contexts, center in raw_training_data:\n",
    "#         #print(context)\n",
    "#         input_ = torch.tensor([center], dtype=torch.long)\n",
    "#         log_probs = model(input_)\n",
    "        \n",
    "#         y_true = torch.tensor([context], dtype=torch.long)\n",
    "#         #y_true[w2i[context]] = 1\n",
    "#         model.zero_grad()\n",
    "#         loss = loss_function(log_probs, y_true)\n",
    "#         loss.backward()\n",
    "#         optimizer.step()\n",
    "#         total_loss+=loss\n",
    "#     losses.append(total_loss)\n",
    "# #         input_layer = np.zeros(len(vocab))\n",
    "# #         input_layer[target] = 1.0\n",
    "# #         input_layer = torch.tensor(input_layer, dtype=torch.long)\n",
    "        \n",
    "# #         output = torch.tensor(np.array(contexts), dtype=torch.long)\n",
    "        \n",
    "# #         log_probs = model(input_layer)\n",
    "#           #print(contexts, target)\n",
    "# #         context_idxs = torch.tensor([[target] for context in contexts], dtype=torch.long)\n",
    "# #         model.zero_grad()\n",
    "# #         #print(context_idxs)\n",
    "# #         log_probs = model(context_idxs)\n",
    "# #         #print(log_probs)\n",
    "# #         context_list = torch.tensor([context for context in contexts], dtype=torch.long)\n",
    "# #         #print(context_list)\n",
    "# #         loss = loss_function(log_probs, context_list)\n",
    "        \n",
    "# #         loss.backward()\n",
    "# #         optimizer.step()\n",
    "        \n",
    "#         #total_loss+=loss.item()\n",
    "#     #losses.append(total_loss)\n",
    "# #print(losses)\n",
    "    \n",
    "    \n"
   ]
  },
  {
   "cell_type": "code",
   "execution_count": null,
   "metadata": {},
   "outputs": [],
   "source": []
  },
  {
   "cell_type": "code",
   "execution_count": 88,
   "metadata": {},
   "outputs": [],
   "source": [
    "# from tqdm import tqdm_gui\n",
    "import matplotlib\n",
    "# matplotlib.use('Agg')\n",
    "import matplotlib.pyplot as plt\n",
    "from sklearn.manifold import TSNE\n",
    "%matplotlib inline"
   ]
  },
  {
   "cell_type": "code",
   "execution_count": 89,
   "metadata": {},
   "outputs": [
    {
     "data": {
      "text/plain": [
       "Text(0.5, 0, 'Epoch')"
      ]
     },
     "execution_count": 89,
     "metadata": {},
     "output_type": "execute_result"
    },
    {
     "data": {
      "image/png": "[encoded data removed]",
      "text/plain": [
       "<Figure size 432x288 with 1 Axes>"
      ]
     },
     "metadata": {
      "needs_background": "light"
     },
     "output_type": "display_data"
    }
   ],
   "source": [
    "plt.plot(range(epoch), losses)\n",
    "plt.ylabel('Loss')\n",
    "plt.xlabel('Epoch')"
   ]
  },
  {
   "cell_type": "code",
   "execution_count": 90,
   "metadata": {},
   "outputs": [
    {
     "name": "stdout",
     "output_type": "stream",
     "text": [
      "EMBEDDINGS.shape:  torch.Size([76, 100])\n",
      "\n",
      " running TSNE...\n",
      "tsne.shape:  (76, 2)\n"
     ]
    }
   ],
   "source": [
    "EMBEDDINGS = model.embeddings.weight.data\n",
    "print('EMBEDDINGS.shape: ', EMBEDDINGS.shape)\n",
    "\n",
    "print('\\n', 'running TSNE...')\n",
    "tsne = TSNE(n_components = 2).fit_transform(EMBEDDINGS)\n",
    "print('tsne.shape: ', tsne.shape) #(15, 2)"
   ]
  },
  {
   "cell_type": "code",
   "execution_count": 91,
   "metadata": {},
   "outputs": [
    {
     "name": "stdout",
     "output_type": "stream",
     "text": [
      "76\n"
     ]
    },
    {
     "data": {
      "image/png": "[encoded data removed]",
      "text/plain": [
       "<Figure size 720x720 with 1 Axes>"
      ]
     },
     "metadata": {
      "needs_background": "light"
     },
     "output_type": "display_data"
    }
   ],
   "source": [
    "############ VISUALIZING ############\n",
    "x, y = [], []\n",
    "annotations = []\n",
    "print(len(tsne))\n",
    "for idx, coord in enumerate(tsne):\n",
    "    # print(coord)\n",
    "    #print(idx)\n",
    "    annotations.append(i2w[idx])\n",
    "    x.append(coord[0])\n",
    "    y.append(coord[1])   \n",
    "\n",
    "test_words = list(vocabs)[50:80]\n",
    "\n",
    "plt.figure(figsize = (10, 10))\n",
    "for i in range(len(test_words)):\n",
    "    word = test_words[i]\n",
    "    vocab_idx = w2i[word]\n",
    "    plt.scatter(x[vocab_idx], y[vocab_idx])\n",
    "    plt.annotate(word, xy = (x[vocab_idx], y[vocab_idx]), \\\n",
    "        ha='right',va='bottom')\n",
    "\n",
    "plt.savefig(\"w2v.png\")\n",
    "plt.show()"
   ]
  },
  {
   "cell_type": "markdown",
   "metadata": {},
   "source": []
  },
  {
   "cell_type": "code",
   "execution_count": 92,
   "metadata": {},
   "outputs": [
    {
     "data": {
      "text/plain": [
       "tensor([ 0.5388, -0.6676, -0.3794, -0.1111,  0.2030,  0.2029,  0.7451,  0.5457,\n",
       "        -0.5649, -0.7163, -0.7988,  0.3966,  0.1593, -1.6125, -0.2852, -0.6991,\n",
       "         0.4252, -1.3375,  0.0098,  0.7887, -0.7195, -3.0292, -1.4834,  0.0208,\n",
       "         1.2144, -0.5013, -1.7240, -0.3352, -1.0809,  0.6155,  0.8174,  1.4523,\n",
       "         1.1165, -1.3277,  1.9253,  2.2882,  0.3203, -0.4215,  0.2687, -1.0417,\n",
       "        -2.1490, -0.7040, -2.2072, -0.3841,  0.4850, -0.0842, -1.6984,  1.8160,\n",
       "         1.3007, -0.8834, -0.3934, -0.4599,  1.8393, -1.2746,  0.6302,  0.5763,\n",
       "         0.4132, -0.0896, -0.2709,  0.2627, -0.0067,  1.1702, -0.8455,  2.3423,\n",
       "         0.9711,  1.1679,  0.0195,  0.5440,  0.7706,  0.1399,  0.8778, -0.2121,\n",
       "        -0.1075,  1.3952, -0.8407, -0.7589, -0.0629, -0.1145,  0.8870, -0.7606,\n",
       "         1.3188, -0.3898,  0.0549,  0.3487,  0.6218, -1.4000, -1.1400,  1.7843,\n",
       "         0.2467, -0.6483, -0.0648, -0.0322,  0.7680,  0.7746,  1.2443,  0.3143,\n",
       "        -0.1446,  0.0599,  0.6778, -0.9543], grad_fn=<EmbeddingBackward>)"
      ]
     },
     "execution_count": 92,
     "metadata": {},
     "output_type": "execute_result"
    }
   ],
   "source": [
    "model.get_embedding(torch.tensor(w2i['mov ecx, IMM'], dtype=torch.long))"
   ]
  },
  {
   "cell_type": "code",
   "execution_count": 93,
   "metadata": {},
   "outputs": [
    {
     "data": {
      "text/plain": [
       "False"
      ]
     },
     "execution_count": 93,
     "metadata": {},
     "output_type": "execute_result"
    }
   ],
   "source": [
    "torch.cuda.is_available()"
   ]
  },
  {
   "cell_type": "code",
   "execution_count": 103,
   "metadata": {},
   "outputs": [
    {
     "ename": "TypeError",
     "evalue": "'module' object is not callable",
     "output_type": "error",
     "traceback": [
      "\u001b[0;31m---------------------------------------------------------------------------\u001b[0m",
      "\u001b[0;31mTypeError\u001b[0m                                 Traceback (most recent call last)",
      "\u001b[0;32m<ipython-input-103-77329b767a01>\u001b[0m in \u001b[0;36m<module>\u001b[0;34m\u001b[0m\n\u001b[1;32m     48\u001b[0m \u001b[0mlosses\u001b[0m \u001b[0;34m=\u001b[0m \u001b[0;34m[\u001b[0m\u001b[0;34m]\u001b[0m\u001b[0;34m\u001b[0m\u001b[0;34m\u001b[0m\u001b[0m\n\u001b[1;32m     49\u001b[0m \u001b[0mloss_function\u001b[0m \u001b[0;34m=\u001b[0m \u001b[0mnn\u001b[0m\u001b[0;34m.\u001b[0m\u001b[0mNLLLoss\u001b[0m\u001b[0;34m(\u001b[0m\u001b[0;34m)\u001b[0m\u001b[0;34m\u001b[0m\u001b[0;34m\u001b[0m\u001b[0m\n\u001b[0;32m---> 50\u001b[0;31m \u001b[0mmodel\u001b[0m \u001b[0;34m=\u001b[0m \u001b[0mSkipgram\u001b[0m\u001b[0;34m(\u001b[0m\u001b[0mlen\u001b[0m\u001b[0;34m(\u001b[0m\u001b[0mvocabs\u001b[0m\u001b[0;34m)\u001b[0m\u001b[0;34m,\u001b[0m \u001b[0;36m100\u001b[0m\u001b[0;34m,\u001b[0m \u001b[0;36m8\u001b[0m\u001b[0;34m)\u001b[0m\u001b[0;34m\u001b[0m\u001b[0;34m\u001b[0m\u001b[0m\n\u001b[0m\u001b[1;32m     51\u001b[0m \u001b[0moptimizer\u001b[0m \u001b[0;34m=\u001b[0m \u001b[0moptim\u001b[0m\u001b[0;34m.\u001b[0m\u001b[0mSGD\u001b[0m\u001b[0;34m(\u001b[0m\u001b[0mmodel\u001b[0m\u001b[0;34m.\u001b[0m\u001b[0mparameters\u001b[0m\u001b[0;34m(\u001b[0m\u001b[0;34m)\u001b[0m\u001b[0;34m,\u001b[0m \u001b[0mlr\u001b[0m\u001b[0;34m=\u001b[0m\u001b[0;36m0.001\u001b[0m\u001b[0;34m)\u001b[0m\u001b[0;34m\u001b[0m\u001b[0;34m\u001b[0m\u001b[0m\n\u001b[1;32m     52\u001b[0m \u001b[0mbatch_size\u001b[0m \u001b[0;34m=\u001b[0m \u001b[0;36m150\u001b[0m\u001b[0;34m\u001b[0m\u001b[0;34m\u001b[0m\u001b[0m\n",
      "\u001b[0;31mTypeError\u001b[0m: 'module' object is not callable"
     ]
    }
   ],
   "source": []
  },
  {
   "cell_type": "code",
   "execution_count": null,
   "metadata": {},
   "outputs": [],
   "source": []
  }
 ],
 "metadata": {
  "kernelspec": {
   "display_name": "Python 3",
   "language": "python",
   "name": "python3"
  },
  "language_info": {
   "codemirror_mode": {
    "name": "ipython",
    "version": 3
   },
   "file_extension": ".py",
   "mimetype": "text/x-python",
   "name": "python",
   "nbconvert_exporter": "python",
   "pygments_lexer": "ipython3",
   "version": "3.7.3"
  }
 },
 "nbformat": 4,
 "nbformat_minor": 2
}
