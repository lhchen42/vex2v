{
 "cells": [
  {
   "cell_type": "code",
   "execution_count": 1,
   "metadata": {},
   "outputs": [],
   "source": [
    "import torch\n",
    "import torch.nn as nn\n",
    "import torch.nn.functional as F\n",
    "import torch.optim as optim\n",
    "import torch.utils.data\n",
    "from collections import Counter"
   ]
  },
  {
   "cell_type": "code",
   "execution_count": 2,
   "metadata": {},
   "outputs": [],
   "source": [
    "class Skipgram(nn.Module):\n",
    "    def __init__(self, vocabulary_size, embedding_size):\n",
    "        super(Skipgram, self).__init__()\n",
    "        self.vocabulary_size = vocabulary_size\n",
    "        self.embedding_size = embedding_size\n",
    "        self.embeddings = nn.Embedding(self.vocabulary_size, self.embedding_size)\n",
    "        self.linear1 = nn.Linear(self.embedding_size, self.vocabulary_size)\n",
    "\n",
    "    \n",
    "    def forward(self, input):\n",
    "        embeds = self.embeddings(input)\n",
    "        #print(embeds.shape)\n",
    "        out = self.linear1(F.relu(embeds))\n",
    "        log_probs = F.log_softmax(out, dim=1)\n",
    "        \n",
    "        return log_probs\n",
    "    \n",
    "    def get_embedding(self, input):\n",
    "        out_vector = self.embeddings(input)\n",
    "        return out_vector \n",
    "        "
   ]
  },
  {
   "cell_type": "code",
   "execution_count": 3,
   "metadata": {},
   "outputs": [],
   "source": [
    "# import re\n",
    "\n",
    "# def get_training_data(token_list, window_size, w2i, i2w):\n",
    "#     training_data = []\n",
    "#     for target_pos in range(len(token_list)):\n",
    "#         # target_pos is the center position\n",
    "#         target = token_list[target_pos]\n",
    "#         contexts = []\n",
    "#         for d in range(-window_size, window_size+1):\n",
    "#             context_pos = target_pos + d\n",
    "#             # skip target(center) token, avoid pos beyond token_list\n",
    "#             if(context_pos == target_pos or context_pos < 0 or context_pos >= len(token_list)):\n",
    "#                 continue\n",
    "#             #print(context_pos)\n",
    "#             #contexts.append(token_list[context_pos])\n",
    "#             contexts.append(w2i[token_list[context_pos]])\n",
    "# #         for i in range(window_size*2 - len(contexts)):\n",
    "# #             contexts.append(w2i['None'])\n",
    "#         training_data.append((contexts, w2i[token_list[target_pos]]))\n",
    "#     return training_data\n",
    "\n",
    "# def clean_data(token_list):\n",
    "#     cleaned_list = []\n",
    "#     for t in token_list:\n",
    "#         cleaned_list.append(re.sub('0[xX][0-9a-fA-F]+', 'IMM', t))\n",
    "#     return \n",
    "\n",
    "# def preprocess_data(filename, window_size):\n",
    "#     with open(filename, \"rb\") as file:\n",
    "#         text = file.read().decode('utf-8').strip()\n",
    "#         text_split = text.split(\"\\n\")\n",
    "#         # token is a line of assembly instruction\n",
    "#         token_list = [' '.join(inst.split('\\t')[1:]) for inst in text_split]\n",
    "        \n",
    "#         cleaned_token_list = clean_data(token_list)\n",
    "        \n",
    "        \n",
    "#         vocab = set(token_list)\n",
    "# #         vocab.add('None')\n",
    "#         #print(vocab)\n",
    "#         #print(len(vocab))\n",
    "#         w2i = {word: i for i, word in enumerate(vocab)}\n",
    "#         i2w = {i: word for word, i in w2i.items()}\n",
    "#         #print(i2w)\n",
    "\n",
    "#         training_data = get_training_data(token_list, window_size, w2i, i2w)\n",
    "#     return vocab, training_data, w2i, i2w\n",
    "\n",
    "# filename = \"data/basename.c_main.c.o_main\"\n",
    "# vocab, training_data, w2i, i2w = preprocess_data(filename, 8)\n",
    "#print(training_data)"
   ]
  },
  {
   "cell_type": "code",
   "execution_count": 22,
   "metadata": {},
   "outputs": [
    {
     "name": "stdout",
     "output_type": "stream",
     "text": [
      "{'TVAR = GET:I64(offset=CONST)': 139555, 'TVAR = Sub64(TVAR,MEM)': 66342, 'PUT(offset=CONST) = TVAR': 227980, 'STle(TVAR) = TVAR': 80862, 'PUT(offset=CONST) = MEM': 427988, 'TVAR = Add64(TVAR,MEM)': 121956, 'TVAR = LDle:I64(TVAR)': 73614, 'TVAR = LDle:I32(TVAR)': 14068, 'TVAR = 32Uto64(TVAR)': 52669, 'TVAR = TVAR': 148517, 'TVAR = 64to32(TVAR)': 60897, 'TVAR = 64to32(MEM)': 9984, 'TVAR = CmpEQ32(TVAR,TVAR)': 7495, 'TVAR = 1Uto64(TVAR)': 36574, 'TVAR = 64to1(TVAR)': 37210, 'if (TVAR) { PUT(offset=CONST) = MEM; Ijk_Boring }': 35701, 'STle(TVAR) = MEM': 27283, 'TVAR = CmpEQ64(TVAR,MEM)': 12246, 'TVAR = LDle:I8(TVAR)': 51269, 'TVAR = GET:I8(offset=CONST)': 8717, 'TVAR = Add8(TVAR,TVAR)': 46754, 'TVAR = 8Uto64(TVAR)': 13893, 'TVAR = Shr64(TVAR,MEM)': 1824, 'TVAR = And32(TVAR,MEM)': 2248, 'TVAR = And64(TVAR,MEM)': 5256, 'TVAR = Or32(TVAR,MEM)': 218, 'TVAR = MullS64(TVAR,MEM)': 12, 'TVAR = 128HIto64(TVAR)': 144, 'TVAR = Sar64(TVAR,MEM)': 323, 'TVAR = Sub64(TVAR,TVAR)': 745, 'TVAR = Shl64(TVAR,MEM)': 8047, 'TVAR = Add64(TVAR,TVAR)': 5230, 'TVAR = LDle:I64(MEM)': 3194, 'TVAR = LDle:I32(MEM)': 771, 'TVAR = CmpEQ32(TVAR,MEM)': 4888, 'TVAR = CmpLE32U(TVAR,TVAR)': 1371, 'STle(MEM) = TVAR': 764, 'TVAR = 32Sto64(TVAR)': 4151, 'STle(MEM) = MEM': 573, 'TVAR = Sub32(TVAR,MEM)': 864, 'TVAR = amd64g_calculate_rflags_c(TVAR,TVAR,TVAR,TVAR):Ity_I64': 306, 'TVAR = LDle:I16(TVAR)': 617, 'TVAR = 16Uto32(TVAR)': 763, 'TVAR = amd64g_calculate_condition(MEM,MEM,TVAR,MEM,TVAR):Ity_I64': 278, 'TVAR = CmpNE64(TVAR,MEM)': 1283, 'if (TVAR) { PUT(offset=CONST) = MEM; Ijk_SigSEGV }': 833, 'TVAR = GET:V128(offset=CONST)': 539, 'TVAR = Add64(MEM,TVAR)': 3219, 'TVAR = Xor64(TVAR,TVAR)': 595, 'TVAR = 8Sto32(TVAR)': 486, 'TVAR = 64to8(MEM)': 1137, 'TVAR = 64to8(TVAR)': 2209, 'TVAR = CmpEQ8(TVAR,TVAR)': 1377, 'TVAR = CmpLT64S(TVAR,MEM)': 38, 'TVAR = Add32(TVAR,MEM)': 1546, 'TVAR = CmpLT32U(TVAR,TVAR)': 844, 'TVAR = CmpLE64U(TVAR,MEM)': 3407, 'TVAR = CmpLT64U(TVAR,MEM)': 367, 'TVAR = 1Uto8(TVAR)': 850, 'TVAR = Xor8(TVAR,TVAR)': 2, 'TVAR = Add32(TVAR,TVAR)': 897, 'TVAR = MEM': 141, 'TVAR = Shr32(TVAR,MEM)': 152, 'TVAR = Or32(TVAR,TVAR)': 695, 'TVAR = Shl32(TVAR,MEM)': 171, 'TVAR = CmpLE32S(TVAR,TVAR)': 464, 'TVAR = ITE(TVAR,TVAR,MEM)': 143, 'TVAR = CmpEQ64(TVAR,TVAR)': 898, 'TVAR = ITE(TVAR,MEM,MEM)': 341, 'TVAR = And8(TVAR,MEM)': 1137, 'TVAR = 8Uto32(TVAR)': 3432, 'TVAR = And64(MEM,MEM)': 133, 'TVAR = CmpLE64U(TVAR,TVAR)': 631, 'TVAR = Sub64(MEM,TVAR)': 148, 'TVAR = Or64(TVAR,TVAR)': 745, 'TVAR = NoTVAR(TVAR)': 172, 'TVAR = GET:I16(offset=CONST)': 650, 'TVAR = 16Uto64(TVAR)': 167, 'TVAR = Shl64(MEM,MEM)': 78, 'TVAR = amd64g_calculate_condition(MEM,TVAR,TVAR,TVAR,TVAR):Ity_I64': 376, 'TVAR = CmpLT32S(TVAR,TVAR)': 352, 'TVAR = And32(TVAR,TVAR)': 257, 'TVAR = Xor32(TVAR,MEM)': 83, 'TVAR = amd64g_calculate_condition(MEM,MEM,TVAR,TVAR,TVAR):Ity_I64': 49, 'TVAR = 32UtoV128(TVAR)': 40, 'TVAR = InterleaveLO8x16(TVAR,TVAR)': 43, 'TVAR = V128to64(TVAR)': 45, 'TVAR = V128HIto64(TVAR)': 17, 'TVAR = 64HIto32(TVAR)': 86, 'TVAR = 32to16(TVAR)': 2, 'TVAR = 32HIto16(TVAR)': 1, 'TVAR = 16HLto32(TVAR,TVAR)': 2, 'TVAR = 32HLto64(TVAR,TVAR)': 298, 'TVAR = 64HLtoV128(TVAR,TVAR)': 34, 'TVAR = Sub32(MEM,TVAR)': 497, 'TVAR = CmpNE32(TVAR,MEM)': 265, 'TVAR = And8(TVAR,TVAR)': 42, 'TVAR = Sub32(TVAR,TVAR)': 117, 'TVAR = CmpLE32S(TVAR,MEM)': 303, 'TVAR = CmpLT64U(TVAR,TVAR)': 891, 'TVAR = Shr16(TVAR,MEM)': 5, 'TVAR = Shl16(TVAR,MEM)': 5, 'TVAR = Or16(TVAR,TVAR)': 7, 'TVAR = amd64g_calculate_rflags_all(TVAR,TVAR,TVAR,TVAR):Ity_I64': 6, 'TVAR = Shr64(TVAR,TVAR)': 250, 'TVAR = MullS64(MEM,TVAR)': 3, 'TVAR = 128to64(TVAR)': 92, 'TVAR = ITE(TVAR,TVAR,TVAR)': 762, 'TVAR = Or64(MEM,TVAR)': 3, 'TVAR = LDle:I8(MEM)': 169, 'TVAR = Sub8(TVAR,MEM)': 58, 'TVAR = Sub8(TVAR,TVAR)': 65, 'TVAR = CmpEQ64(MEM,TVAR)': 13, 'TVAR = 16Sto32(TVAR)': 84, 'TVAR = nan': 468, 'TVAR = GET:I32(offset=CONST)': 131, 'TVAR = GetI(904:F64x8)[TVAR,0]': 227, 'TVAR = GetI(968:I8x8)[TVAR,0]': 377, 'TVAR = CmpNE8(TVAR,MEM)': 468, 'TVAR = ReinterpF64asI64(TVAR)': 44, 'TVAR = DIRTY 1 TODO(effects) ::: amd64g_dirtyhelper_storeF80le(TVAR,TVAR)': 44, 'PutI(968:I8x8)[TVAR,0] = MEM': 430, 'TVAR = DIRTY 1 TODO(effects) ::: amd64g_dirtyhelper_loadF80le(TVAR)': 122, 'TVAR = ReinterpI64asF64(TVAR)': 122, 'PutI(904:F64x8)[TVAR,0] = TVAR': 237, 'TVAR = GetI(904:F64x8)[TVAR,1]': 77, 'TVAR = GetI(968:I8x8)[TVAR,1]': 77, 'TVAR = CmpF64(TVAR,TVAR)': 109, 'TVAR = ITE(TVAR,MEM,TVAR)': 106, 'TVAR = Xor8(TVAR,MEM)': 22, 'TVAR = I32StoF64(TVAR)': 15, 'TVAR = LDle:F64(TVAR)': 3, 'TVAR = Xor32(TVAR,TVAR)': 901, 'TVAR = CmpLE64U(MEM,TVAR)': 16, 'TVAR = 8Sto64(TVAR)': 59, 'TVAR = Mul32(TVAR,TVAR)': 12, 'TVAR = 16Sto64(TVAR)': 46, 'TVAR = CmpNE32(TVAR,TVAR)': 153, 'TVAR = Shl64(MEM,TVAR)': 131, 'TVAR = Or8(TVAR,MEM)': 70, 'TVAR = LDle:V128(MEM)': 175, 'TVAR = Mul64(TVAR,MEM)': 154, 'TVAR = LDle:V128(TVAR)': 226, 'TVAR = CmpLT64S(TVAR,TVAR)': 140, 'TVAR = Add32(MEM,TVAR)': 152, 'PUT(offset=CONST) = 0': 253, 'STle(TVAR) = 0': 132, 'TVAR = CmpLE64S(TVAR,MEM)': 39, 'TVAR = 64HLto128(MEM,MEM)': 32, 'if (TVAR) { PUT(offset=CONST) = MEM; Ijk_SigFPE_IntDiv }': 146, 'TVAR = DivModS128to64(TVAR,TVAR)': 5, 'TVAR = Mul64(TVAR,TVAR)': 61, 'TVAR = 64HLto128(TVAR,TVAR)': 7, 'TVAR = 64HLto128(MEM,TVAR)': 79, 'TVAR = DivModU128to64(TVAR,TVAR)': 107, 'TVAR = CmpLE64S(MEM,TVAR)': 1, 'TVAR = CmpLT64U(MEM,TVAR)': 18, 'TVAR = InterleaveLO16x8(TVAR,TVAR)': 10, 'TVAR = InterleaveLO32x4(TVAR,TVAR)': 6, 'TVAR = InterleaveLO64x2(TVAR,TVAR)': 4, 'TVAR = Add8x16(TVAR,TVAR)': 25, 'TVAR = Add8(TVAR,MEM)': 72, 'TVAR = Mul64FMEM(0,TVAR)': 1, 'TVAR = Add64FMEM(TVAR,TVAR)': 8, 'TVAR = Mul64FMEM(TVAR,TVAR)': 9, 'TVAR = Div64FMEM(TVAR,TVAR)': 3, 'TVAR = Xor32(MEM,TVAR)': 1, 'TVAR = amd64g_create_mxcsr(TVAR):Ity_I64': 22, 'TVAR = amd64g_check_ldmxcsr(TVAR):Ity_I64': 22, 'if (TVAR) { PUT(offset=CONST) = MEM; Ijk_EmWarn }': 22, 'TVAR = And32(MEM,TVAR)': 17, 'TVAR = Or64(TVAR,MEM)': 67, 'TVAR = Xor64(TVAR,MEM)': 60, 'TVAR = Mul32(TVAR,MEM)': 21, 'TVAR = amd64g_calculate_rflags_c(MEM,TVAR,MEM,TVAR):Ity_I64': 8, 'TVAR = CmpLT64S(MEM,MEM)': 3, 't(13,4294967295) = CASle(TVAR :: (TVAR,None)->(TVAR,None))': 1, 'TVAR = CasCmpNE32(TVAR,TVAR)': 18, 't(12,4294967295) = CASle(TVAR :: (TVAR,None)->(TVAR,None))': 1, 't(4,4294967295) = CASle(TVAR :: (TVAR,None)->(TVAR,None))': 9, 'TVAR = 64to16(MEM)': 47, 'TVAR = 64to16(TVAR)': 63, 'TVAR = CmpEQ16(TVAR,TVAR)': 39, 'TVAR = And16(TVAR,MEM)': 36, 'TVAR = CmpLE64S(TVAR,TVAR)': 18, 'TVAR = Mul64(MEM,TVAR)': 5, 'TVAR = And64(TVAR,TVAR)': 73, 'TVAR = Or8(TVAR,TVAR)': 105, 'TVAR = XorV128(TVAR,TVAR)': 2, 'TVAR = CmpEQ64FMEM(TVAR,0)': 2, 'TVAR = XorV128(TVAR,ffffffffffffffff)': 4, 'TVAR = AndV128(TVAR,TVAR)': 8, 'TVAR = NotV128(TVAR)': 4, 'TVAR = OrV128(TVAR,TVAR)': 4, 'TVAR = CmpUN64FMEM(TVAR,TVAR)': 2, 'TVAR = GET:F64(offset=CONST)': 66, 'TVAR = F64toI64S(MEM,TVAR)': 6, 'TVAR = I64StoF64(TVAR,TVAR)': 30, 'TVAR = LDle:F64(MEM)': 4, 'TVAR = F64toI32S(MEM,TVAR)': 2, 'TVAR = Sub64FMEM(TVAR,TVAR)': 2, 'TVAR = Xor64(MEM,TVAR)': 5, 'TVAR = 64UtoV128(TVAR)': 7, 'TVAR = Sub64Fx2(MEM,TVAR,TVAR)': 3, 'TVAR = Add64Fx2(MEM,TVAR,TVAR)': 3, 'TVAR = CmpNE8(TVAR,TVAR)': 105, 'TVAR = And64(MEM,TVAR)': 137, 'TVAR = Sub8(MEM,TVAR)': 2, 'TVAR = Shl8(TVAR,MEM)': 10, 'TVAR = Sar32(TVAR,MEM)': 31, 'TVAR = DivModS64to32(TVAR,TVAR)': 18, 'TVAR = 32HLto64(MEM,TVAR)': 9, 'TVAR = DivModU64to32(TVAR,TVAR)': 9, 'TVAR = amd64g_calculate_rflags_c(MEM,TVAR,TVAR,TVAR):Ity_I64': 20, 'TVAR = Shl64(TVAR,TVAR)': 9, 'TVAR = CmpEQ8x16(0,TVAR)': 32, 'TVAR = GetMSBs8x16(TVAR)': 45, 'TVAR = ExpCmpNE64(TVAR,MEM)': 38, 'TVAR = Ctz64(TVAR)': 32, 'TVAR = MullU64(TVAR,MEM)': 8, 'TVAR = CmpLT64S(MEM,TVAR)': 9, 'TVAR = MullU64(TVAR,TVAR)': 10, 'TVAR = CmpEQ64(MEM,MEM)': 14, 'TVAR = MullU64(MEM,TVAR)': 8, 'TVAR = 0.000000': 5, 'TVAR = MulF64(MEM,TVAR,TVAR)': 14, 'PutI(904:F64x8)[TVAR,1] = TVAR': 16, 'PutI(968:I8x8)[TVAR,1] = MEM': 16, 'TVAR = amd64g_calculate_condition(MEM,MEM,MEM,TVAR,TVAR):Ity_I64': 3, 'TVAR = Or16(TVAR,MEM)': 2, 'TVAR = Add64x2(TVAR,TVAR)': 34, 'TVAR = ShlN64x2(TVAR,MEM)': 9, 'PUT(offset=CONST) = ffffffffffffffffffffffffffffffff': 1, 'STle(TVAR) = ffffffffffffffffffffffffffffffff': 1, 'TVAR = CmpLE64U(MEM,MEM)': 5, 'TVAR = CmpNE64(TVAR,TVAR)': 7, 't(5,4294967295) = CASle(TVAR :: (TVAR,None)->(TVAR,None))': 3, 'TVAR = Sub64x2(TVAR,TVAR)': 1, 'TVAR = 1.000000': 2, 'TVAR = amd64g_calculate_rflags_c(MEM,MEM,TVAR,TVAR):Ity_I64': 2, 'TVAR = Sar64(TVAR,TVAR)': 5, 'TVAR = 64UtoV128(MEM)': 5, 'TVAR = 64HLtoV128(TVAR,MEM)': 4, 'TVAR = MullU32(TVAR,TVAR)': 12, 'TVAR = ShrN64x2(TVAR,MEM)': 3, 'TVAR = Add16(TVAR,MEM)': 1, 'TVAR = MullU32(TVAR,MEM)': 18, 'TVAR = LDle:F32(TVAR)': 13, 'TVAR = F32toF64(TVAR)': 28, 'TVAR = AddF64(MEM,TVAR,TVAR)': 6, 'TVAR = GetI(904:F64x8)[TVAR,2]': 6, 'TVAR = GetI(968:I8x8)[TVAR,2]': 6, 'TVAR = DivF64(MEM,TVAR,TVAR)': 7, 'PutI(904:F64x8)[TVAR,2] = TVAR': 9, 'PutI(968:I8x8)[TVAR,2] = MEM': 9, 'TVAR = GetI(904:F64x8)[TVAR,3]': 8, 'TVAR = GetI(968:I8x8)[TVAR,3]': 8, 'PutI(904:F64x8)[TVAR,3] = TVAR': 5, 'PutI(968:I8x8)[TVAR,3] = MEM': 5, 'TVAR = LDle:F32(MEM)': 5, 'TVAR = MullU64(MEM,MEM)': 2, 't(7,4294967295) = CASle(TVAR :: (TVAR,None)->(TVAR,None))': 1, 'TVAR = amd64g_calculate_rflags_all(MEM,TVAR,MEM,TVAR):Ity_I64': 127, 'TVAR = amd64g_calculate_rflags_all(MEM,TVAR,TVAR,TVAR):Ity_I64': 2, 'TVAR = CmpLE64FMEM(TVAR,TVAR)': 2, 'TVAR = Shr64(MEM,TVAR)': 2, 'TVAR = Mul16(TVAR,MEM)': 1, 'TVAR = CmpEQ8x16(TVAR,TVAR)': 13, 't(6,4294967295) = CASle(TVAR :: (TVAR,None)->(TVAR,None))': 1, 'TVAR = Shl8(MEM,TVAR)': 2, 'TVAR = amd64g_calculate_rflags_all(MEM,MEM,MEM,TVAR):Ity_I64': 2, 'TVAR = CmpEQ32(MEM,MEM)': 1, 'TVAR = DivModS64to32(TVAR,MEM)': 1, 'TVAR = MullS32(TVAR,MEM)': 1, 'TVAR = DivModS128to64(TVAR,MEM)': 5, 'TVAR = And16(TVAR,TVAR)': 1, 'TVAR = 32UtoV128(MEM)': 7, 'TVAR = Clz64(TVAR)': 6, 'TVAR = Mul32(MEM,TVAR)': 1, 'TVAR = amd64g_calculate_condition(MEM,MEM,TVAR,MEM,MEM):Ity_I64': 2, 'TVAR = GET:F32(offset=CONST)': 10, 'TVAR = Add64(MEM,MEM)': 4, 'STle(MEM) = 0': 6, 'TVAR = CmpLT64U(MEM,MEM)': 5, 't(8,4294967295) = CASle(TVAR :: (TVAR,None)->(TVAR,None))': 2, 'TVAR = LDle:I16(MEM)': 7, 'TVAR = DivModU128to64(TVAR,MEM)': 1, 'TVAR = CmpNE16(TVAR,TVAR)': 12}\n"
     ]
    }
   ],
   "source": [
    "import os\n",
    "import re\n",
    "import sys\n",
    "def preprocess_token(token, threshold):\n",
    "    print(token)\n",
    "    sys.exit()\n",
    "    #if \"IMark\" in token:\n",
    "        #return [\"IMARK\"]\n",
    "    #token_list = token.strip().split(\"=\")\n",
    "    #modified_list = []\n",
    "    #print(token_list)\n",
    "    #sys.exit()\n",
    "#     for token in token_list:\n",
    "#         new_token = re.sub('0[xX][0-9a-fA-F]+', 'MEM', token)\n",
    "#         abs_values = re.findall('(?<=\\s)\\d+(?=\\s|$)', new_token)\n",
    "#         for v in abs_values:\n",
    "#             # if absolute value is greater than threshhold, replace it with IMM\n",
    "#             if(int(v) > threshold):\n",
    "#                 new_token = new_token.replace(v, 'IMM')\n",
    "#         modified_list.append(new_token)\n",
    "#     return ' '.join(modified_list)\n",
    "        \n",
    "\n",
    "\n",
    "def preprocess_file(file):\n",
    "    token_list = []\n",
    "    with open(file, 'r') as f:\n",
    "        tokens = f.readlines()\n",
    "        for token in tokens:\n",
    "            if \"IMark\" in token:\n",
    "                #token = \"IMark\"\n",
    "                continue\n",
    "            elif \"AbiHint\" in token:\n",
    "                #token = \"AbiHint\"\n",
    "                continue\n",
    "            else:\n",
    "                # replace memory address\n",
    "                token = re.sub('0[xX][0-9a-fA-F]+', 'MEM', token.strip())\n",
    "                \n",
    "                # replace offset constants\n",
    "                token = re.sub('offset=\\d+', 'offset=CONST', token)\n",
    "                \n",
    "                # replace temperary variable\n",
    "                token = re.sub('t\\d+', 'TVAR', token)\n",
    "            #processed_token = preprocess_token(token, 1)\n",
    "            token_list.append(token)\n",
    "    return token_list\n",
    "\n",
    "def collect_vocab(data_set):\n",
    "    vocabs = {}\n",
    "    for file, tokens in data_set.items():\n",
    "        for token in tokens:\n",
    "            if token not in vocabs:\n",
    "                vocabs[token] = 1\n",
    "            else:\n",
    "                vocabs[token] += 1\n",
    "    return vocabs\n",
    "\n",
    "def min_frequency(dataset, vocabs, min_frequency):\n",
    "    new_dataset = {}\n",
    "    for file, tokens in dataset.items():\n",
    "        new_tokens = tokens.copy()\n",
    "        for token in tokens:\n",
    "            #print(token)\n",
    "            if(vocabs[token] < min_frequency):\n",
    "                #print('remove {} {} {}'.format(file, token, vocabs[token]))\n",
    "                new_tokens.remove(token)\n",
    "        #print(tokens)\n",
    "        new_dataset[file] = new_tokens\n",
    "    return new_dataset\n",
    "\n",
    "def get_dataset(data_dir):\n",
    "    data_set = {}\n",
    "    for subdir, dirs, files in os.walk(data_dir):\n",
    "        for file in files:\n",
    "            file_path = os.path.join(subdir, file)\n",
    "            data_set[file] = preprocess_file(file_path)\n",
    "\n",
    "    #print the dataset\n",
    "    # for file, token_list in data_set.items():\n",
    "    #     print(f'{file}: {token_list}')\n",
    "\n",
    "    vocabs = collect_vocab(data_set)\n",
    "    # for vocab, frequency in vocabs.items():\n",
    "    #     print(vocab, frequency)\n",
    "\n",
    "    processed_dataset = min_frequency(data_set, vocabs, 2)\n",
    "    for file, tokens in processed_dataset.items():\n",
    "        for token in tokens:\n",
    "            if(vocabs[token] < 2):\n",
    "                print(token, vocabs[token])\n",
    "\n",
    "    w2i = {word: i for i, word in enumerate(vocabs.keys())}\n",
    "    i2w = {i: word for word, i in w2i.items()}\n",
    "    \n",
    "    return processed_dataset, vocabs, w2i, i2w\n",
    "\n",
    "data_set, vocabs, w2i, i2w = get_dataset('./vex2v_data_small/')\n",
    "print(vocabs)\n",
    "\n",
    "# for w, i in w2i.items():\n",
    "#     print('{:<42}:{}'.format(w, i))\n",
    "# print(\"=================\")\n",
    "# for file, tokens in data_set.items():\n",
    "#     for token in tokens:\n",
    "#         if(vocabs[token] < 2):\n",
    "#             print(token, vocabs[token])"
   ]
  },
  {
   "cell_type": "code",
   "execution_count": null,
   "metadata": {},
   "outputs": [],
   "source": [
    "window_size = 8\n",
    "batch_size = 250\n",
    "\n",
    "def get_training_data(data_set, vocab, w2i, i2w, window_size):\n",
    "    idx_pairs = []\n",
    "    for file, tokens in data_set.items():\n",
    "        indicies = [w2i[token] for token in tokens]\n",
    "        for center_word_pos in range(len(indicies)):\n",
    "            contexts = []\n",
    "            for w in range(-window_size, window_size+1):\n",
    "                context_word_pos = center_word_pos + w\n",
    "\n",
    "                if context_word_pos < 0 or context_word_pos >= len(indicies) or center_word_pos == context_word_pos:\n",
    "                    continue\n",
    "                context_word_idx = indicies[context_word_pos]\n",
    "                contexts.append(context_word_idx)\n",
    "                #idx_pairs.append((indicies[center_word_pos], context_word_idx))\n",
    "            idx_pairs.append([contexts, indicies[center_word_pos]])\n",
    "    return idx_pairs\n",
    "\n",
    "training_data = get_training_data(data_set, vocabs, w2i, i2w, window_size)\n",
    "# print(training_data)\n",
    "# batch_size\n",
    "\n",
    "if(len(training_data) < batch_size):\n",
    "    batch_size = len(training_data)//2"
   ]
  },
  {
   "cell_type": "code",
   "execution_count": null,
   "metadata": {},
   "outputs": [],
   "source": [
    "def get_batch(data, batch_size):\n",
    "    n_batches = len(data)//batch_size\n",
    "    \n",
    "    data = data[:n_batches*batch_size]\n",
    "    for i in range(0, len(data), batch_size):\n",
    "        x, y = [], []\n",
    "        batch = data[i:i+batch_size]\n",
    "        #print(batch)\n",
    "        for j in range(len(batch)):\n",
    "            y.extend(batch[j][0])\n",
    "            x.extend([batch[j][1]]*len(batch[j][0]))\n",
    "        yield x, y\n",
    "\n",
    "# get_batch(training_data, batch_size)"
   ]
  },
  {
   "cell_type": "code",
   "execution_count": null,
   "metadata": {},
   "outputs": [],
   "source": [
    "if(len(training_data) < batch_size):\n",
    "    batch_size = len(training_data)//2\n",
    "\n",
    "# training\n",
    "losses = []\n",
    "loss_function = nn.NLLLoss()\n",
    "embedding_size = 100\n",
    "model = Skipgram(len(vocabs), embedding_size)\n",
    "print(len(vocabs))\n",
    "optimizer = optim.Adam(model.parameters(), lr=0.001)\n",
    "epoch = 20\n",
    "\n",
    "for e in range(epoch):\n",
    "    total_loss = 0\n",
    "    for center, context in get_batch(training_data, batch_size):\n",
    "        #print(center)\n",
    "        input_ = torch.LongTensor(center)\n",
    "        label = torch.LongTensor(context)\n",
    "        #print(input_)\n",
    "        log_probs = model(input_)\n",
    "        loss = loss_function(log_probs, label)\n",
    "        optimizer.zero_grad()\n",
    "        loss.backward()\n",
    "        optimizer.step()\n",
    "        total_loss+=loss\n",
    "    print('{}/{}'.format(e, epoch))\n",
    "    losses.append(total_loss)"
   ]
  },
  {
   "cell_type": "code",
   "execution_count": null,
   "metadata": {},
   "outputs": [],
   "source": [
    "print(losses)"
   ]
  },
  {
   "cell_type": "code",
   "execution_count": 9,
   "metadata": {},
   "outputs": [],
   "source": [
    "# training_data"
   ]
  },
  {
   "cell_type": "code",
   "execution_count": 10,
   "metadata": {},
   "outputs": [],
   "source": [
    "# print('len(training_data): ', len(training_data))"
   ]
  },
  {
   "cell_type": "code",
   "execution_count": 11,
   "metadata": {},
   "outputs": [],
   "source": [
    "# import numpy as np"
   ]
  },
  {
   "cell_type": "code",
   "execution_count": 12,
   "metadata": {},
   "outputs": [],
   "source": [
    "# losses = []\n",
    "# loss_function = nn.NLLLoss()\n",
    "# model = Skipgram(len(vocab), 100, 8)\n",
    "# print(len(vocab))\n",
    "# optimizer = optim.SGD(model.parameters(), lr=0.001)\n",
    "# epoch = 200\n",
    "# training_data = np.array(training_data)\n",
    "# #print(i2w[47])\n",
    "\n",
    "# for e in range(epoch):\n",
    "#     if e%20 == 0:\n",
    "#         print(f\"epoch {e}/{epoch-1}\")\n",
    "#     total_loss = 0\n",
    "#     i = 0\n",
    "#     for contexts, center in raw_training_data:\n",
    "#         #print(context)\n",
    "#         input_ = torch.tensor([center], dtype=torch.long)\n",
    "#         log_probs = model(input_)\n",
    "        \n",
    "#         y_true = torch.tensor([context], dtype=torch.long)\n",
    "#         #y_true[w2i[context]] = 1\n",
    "#         model.zero_grad()\n",
    "#         loss = loss_function(log_probs, y_true)\n",
    "#         loss.backward()\n",
    "#         optimizer.step()\n",
    "#         total_loss+=loss\n",
    "#     losses.append(total_loss)\n",
    "# #         input_layer = np.zeros(len(vocab))\n",
    "# #         input_layer[target] = 1.0\n",
    "# #         input_layer = torch.tensor(input_layer, dtype=torch.long)\n",
    "        \n",
    "# #         output = torch.tensor(np.array(contexts), dtype=torch.long)\n",
    "        \n",
    "# #         log_probs = model(input_layer)\n",
    "#           #print(contexts, target)\n",
    "# #         context_idxs = torch.tensor([[target] for context in contexts], dtype=torch.long)\n",
    "# #         model.zero_grad()\n",
    "# #         #print(context_idxs)\n",
    "# #         log_probs = model(context_idxs)\n",
    "# #         #print(log_probs)\n",
    "# #         context_list = torch.tensor([context for context in contexts], dtype=torch.long)\n",
    "# #         #print(context_list)\n",
    "# #         loss = loss_function(log_probs, context_list)\n",
    "        \n",
    "# #         loss.backward()\n",
    "# #         optimizer.step()\n",
    "        \n",
    "#         #total_loss+=loss.item()\n",
    "#     #losses.append(total_loss)\n",
    "# #print(losses)\n",
    "    \n",
    "    \n"
   ]
  },
  {
   "cell_type": "code",
   "execution_count": null,
   "metadata": {},
   "outputs": [],
   "source": []
  },
  {
   "cell_type": "code",
   "execution_count": 13,
   "metadata": {},
   "outputs": [],
   "source": [
    "# from tqdm import tqdm_gui\n",
    "import matplotlib\n",
    "# matplotlib.use('Agg')\n",
    "import matplotlib.pyplot as plt\n",
    "from sklearn.manifold import TSNE\n",
    "%matplotlib inline"
   ]
  },
  {
   "cell_type": "code",
   "execution_count": 14,
   "metadata": {},
   "outputs": [
    {
     "data": {
      "text/plain": [
       "Text(0.5, 0, 'Epoch')"
      ]
     },
     "execution_count": 14,
     "metadata": {},
     "output_type": "execute_result"
    },
    {
     "data": {
      "image/png": "[encoded data removed]",
      "text/plain": [
       "<Figure size 432x288 with 1 Axes>"
      ]
     },
     "metadata": {
      "needs_background": "light"
     },
     "output_type": "display_data"
    }
   ],
   "source": [
    "plt.plot(range(epoch), losses)\n",
    "plt.ylabel('Loss')\n",
    "plt.xlabel('Epoch')"
   ]
  },
  {
   "cell_type": "code",
   "execution_count": 15,
   "metadata": {},
   "outputs": [
    {
     "name": "stdout",
     "output_type": "stream",
     "text": [
      "EMBEDDINGS.shape:  torch.Size([41, 100])\n",
      "\n",
      " running TSNE...\n",
      "tsne.shape:  (41, 2)\n"
     ]
    }
   ],
   "source": [
    "EMBEDDINGS = model.embeddings.weight.data\n",
    "print('EMBEDDINGS.shape: ', EMBEDDINGS.shape)\n",
    "\n",
    "print('\\n', 'running TSNE...')\n",
    "tsne = TSNE(n_components = 2).fit_transform(EMBEDDINGS)\n",
    "print('tsne.shape: ', tsne.shape) #(15, 2)"
   ]
  },
  {
   "cell_type": "code",
   "execution_count": 21,
   "metadata": {},
   "outputs": [
    {
     "name": "stdout",
     "output_type": "stream",
     "text": [
      "41\n"
     ]
    },
    {
     "data": {
      "image/png": "[encoded data removed]",
      "text/plain": [
       "<Figure size 720x720 with 1 Axes>"
      ]
     },
     "metadata": {
      "needs_background": "light"
     },
     "output_type": "display_data"
    }
   ],
   "source": [
    "############ VISUALIZING ############\n",
    "x, y = [], []\n",
    "annotations = []\n",
    "print(len(tsne))\n",
    "for idx, coord in enumerate(tsne):\n",
    "    # print(coord)\n",
    "    #print(idx)\n",
    "    annotations.append(i2w[idx])\n",
    "    x.append(coord[0])\n",
    "    y.append(coord[1])   \n",
    "\n",
    "test_words = list(vocabs)[:10]\n",
    "\n",
    "plt.figure(figsize = (10, 10))\n",
    "for i in range(len(test_words)):\n",
    "    word = test_words[i]\n",
    "    vocab_idx = w2i[word]\n",
    "    plt.scatter(x[vocab_idx], y[vocab_idx])\n",
    "    plt.annotate(word, xy = (x[vocab_idx], y[vocab_idx]), \\\n",
    "        ha='right',va='bottom')\n",
    "\n",
    "plt.savefig(\"w2v.png\")\n",
    "plt.show()"
   ]
  },
  {
   "cell_type": "markdown",
   "metadata": {},
   "source": []
  },
  {
   "cell_type": "code",
   "execution_count": 20,
   "metadata": {},
   "outputs": [
    {
     "data": {
      "text/plain": [
       "tensor([-1.3151e+00,  9.0829e-01, -8.1870e-01, -6.6202e-01, -8.6307e-02,\n",
       "         1.3051e+00, -1.6273e+00,  4.1035e-01, -4.6328e-01,  4.6987e-01,\n",
       "        -1.5555e+00, -6.3077e-01,  8.4798e-01,  4.2594e-01, -5.6145e-01,\n",
       "         8.7692e-01, -2.3805e+00, -9.8229e-02,  2.0519e+00, -2.2942e+00,\n",
       "        -1.2603e+00,  7.9519e-01, -5.6429e-01, -7.9104e-01, -3.3979e-01,\n",
       "         3.9079e-02,  9.7181e-01,  9.9036e-01, -9.3822e-01, -2.5219e-01,\n",
       "        -7.2200e-01, -3.1945e-01, -1.8064e+00, -4.2615e-01,  1.1011e+00,\n",
       "        -1.1332e+00,  8.4135e-01,  1.2083e+00, -1.2794e+00,  2.4672e-01,\n",
       "        -3.5978e-01, -7.3117e-01, -1.9316e+00,  2.3333e+00,  1.0991e+00,\n",
       "        -1.2457e+00, -9.2255e-01,  7.5578e-02, -1.7042e+00, -2.1481e-01,\n",
       "         1.5988e+00,  1.3483e+00,  5.6416e-01, -9.9314e-01, -3.8192e-01,\n",
       "         7.0234e-04,  7.1779e-01, -1.2918e-01,  1.1327e+00, -1.1780e+00,\n",
       "         1.2631e+00, -3.2357e-01, -8.8209e-01,  1.0900e+00,  6.5616e-02,\n",
       "        -1.9300e+00,  2.2434e-02, -2.2821e+00,  5.1758e-01,  3.7652e-01,\n",
       "         1.5346e+00, -1.8393e-01,  4.2480e-01, -2.6507e-01,  1.6825e+00,\n",
       "         2.9719e-01,  9.5905e-01,  2.4568e+00, -9.8484e-01,  2.5108e-01,\n",
       "         4.3522e-01, -4.7671e-01,  9.6607e-01,  3.0265e-01, -5.2132e-01,\n",
       "         7.1946e-01, -2.0280e-01, -5.5809e-01, -5.2854e-01, -4.4312e-01,\n",
       "        -4.9972e-01, -4.4657e-01,  1.0584e+00,  5.5480e-01,  9.7167e-02,\n",
       "         4.1429e-01,  1.0937e+00, -1.6156e+00, -2.1262e-01,  2.7499e-01],\n",
       "       grad_fn=<EmbeddingBackward>)"
      ]
     },
     "execution_count": 20,
     "metadata": {},
     "output_type": "execute_result"
    }
   ],
   "source": [
    "model.get_embedding(torch.tensor(w2i['TVAR = Or32(TVAR,MEM)'], dtype=torch.long))"
   ]
  },
  {
   "cell_type": "code",
   "execution_count": 93,
   "metadata": {},
   "outputs": [
    {
     "data": {
      "text/plain": [
       "False"
      ]
     },
     "execution_count": 93,
     "metadata": {},
     "output_type": "execute_result"
    }
   ],
   "source": [
    "torch.cuda.is_available()"
   ]
  },
  {
   "cell_type": "code",
   "execution_count": 103,
   "metadata": {},
   "outputs": [
    {
     "ename": "TypeError",
     "evalue": "'module' object is not callable",
     "output_type": "error",
     "traceback": [
      "\u001b[0;31m---------------------------------------------------------------------------\u001b[0m",
      "\u001b[0;31mTypeError\u001b[0m                                 Traceback (most recent call last)",
      "\u001b[0;32m<ipython-input-103-77329b767a01>\u001b[0m in \u001b[0;36m<module>\u001b[0;34m\u001b[0m\n\u001b[1;32m     48\u001b[0m \u001b[0mlosses\u001b[0m \u001b[0;34m=\u001b[0m \u001b[0;34m[\u001b[0m\u001b[0;34m]\u001b[0m\u001b[0;34m\u001b[0m\u001b[0;34m\u001b[0m\u001b[0m\n\u001b[1;32m     49\u001b[0m \u001b[0mloss_function\u001b[0m \u001b[0;34m=\u001b[0m \u001b[0mnn\u001b[0m\u001b[0;34m.\u001b[0m\u001b[0mNLLLoss\u001b[0m\u001b[0;34m(\u001b[0m\u001b[0;34m)\u001b[0m\u001b[0;34m\u001b[0m\u001b[0;34m\u001b[0m\u001b[0m\n\u001b[0;32m---> 50\u001b[0;31m \u001b[0mmodel\u001b[0m \u001b[0;34m=\u001b[0m \u001b[0mSkipgram\u001b[0m\u001b[0;34m(\u001b[0m\u001b[0mlen\u001b[0m\u001b[0;34m(\u001b[0m\u001b[0mvocabs\u001b[0m\u001b[0;34m)\u001b[0m\u001b[0;34m,\u001b[0m \u001b[0;36m100\u001b[0m\u001b[0;34m,\u001b[0m \u001b[0;36m8\u001b[0m\u001b[0;34m)\u001b[0m\u001b[0;34m\u001b[0m\u001b[0;34m\u001b[0m\u001b[0m\n\u001b[0m\u001b[1;32m     51\u001b[0m \u001b[0moptimizer\u001b[0m \u001b[0;34m=\u001b[0m \u001b[0moptim\u001b[0m\u001b[0;34m.\u001b[0m\u001b[0mSGD\u001b[0m\u001b[0;34m(\u001b[0m\u001b[0mmodel\u001b[0m\u001b[0;34m.\u001b[0m\u001b[0mparameters\u001b[0m\u001b[0;34m(\u001b[0m\u001b[0;34m)\u001b[0m\u001b[0;34m,\u001b[0m \u001b[0mlr\u001b[0m\u001b[0;34m=\u001b[0m\u001b[0;36m0.001\u001b[0m\u001b[0;34m)\u001b[0m\u001b[0;34m\u001b[0m\u001b[0;34m\u001b[0m\u001b[0m\n\u001b[1;32m     52\u001b[0m \u001b[0mbatch_size\u001b[0m \u001b[0;34m=\u001b[0m \u001b[0;36m150\u001b[0m\u001b[0;34m\u001b[0m\u001b[0;34m\u001b[0m\u001b[0m\n",
      "\u001b[0;31mTypeError\u001b[0m: 'module' object is not callable"
     ]
    }
   ],
   "source": []
  },
  {
   "cell_type": "code",
   "execution_count": null,
   "metadata": {},
   "outputs": [],
   "source": []
  }
 ],
 "metadata": {
  "kernelspec": {
   "display_name": "Python 3",
   "language": "python",
   "name": "python3"
  },
  "language_info": {
   "codemirror_mode": {
    "name": "ipython",
    "version": 3
   },
   "file_extension": ".py",
   "mimetype": "text/x-python",
   "name": "python",
   "nbconvert_exporter": "python",
   "pygments_lexer": "ipython3",
   "version": "3.7.3"
  }
 },
 "nbformat": 4,
 "nbformat_minor": 2
}
